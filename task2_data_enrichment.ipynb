{
 "cells": [
  {
   "cell_type": "markdown",
   "id": "d3108a69",
   "metadata": {},
   "source": [
    "# Task 2 – Data Enrichment\n",
    "\n",
    "This notebook performs data enrichment on the cleaned dataset `combined_outputs.csv` for CIT5900 Project 3."
   ]
  },
  {
   "cell_type": "code",
   "execution_count": null,
   "id": "04730e8e",
   "metadata": {},
   "outputs": [],
   "source": [
    "import pandas as pd\n",
    "import os"
   ]
  },
  {
   "cell_type": "code",
   "execution_count": null,
   "id": "c5a1588a",
   "metadata": {},
   "outputs": [],
   "source": [
    "# Step 1: Load CSV with mixed types handled\n",
    "combined_df = pd.read_csv('combined_outputs.csv', dtype=str)  # Safe for enrichment\n",
    "print(f\"Loaded {combined_df.shape[0]} records.\")"
   ]
  },
  {
   "cell_type": "code",
   "execution_count": null,
   "id": "ab0c958e",
   "metadata": {},
   "outputs": [],
   "source": [
    "# Step 2: Clean column names\n",
    "combined_df.columns = combined_df.columns.str.strip()"
   ]
  },
  {
   "cell_type": "code",
   "execution_count": null,
   "id": "3e09eb55",
   "metadata": {},
   "outputs": [],
   "source": [
    "# Step 3: Ensure all required columns exist\n",
    "required_columns = [\n",
    "    'ProjID', 'ProjectStatus', 'ProjectTitle', 'ProjectRDC', 'ProjectYearStarted',\n",
    "    'ProjectYearEnded', 'ProjectPI', 'OutputTitle', 'OutputBiblio', 'OutputType',\n",
    "    'OutputStatus', 'OutputVenue', 'OutputYear', 'OutputMonth', 'OutputVolume',\n",
    "    'OutputNumber', 'OutputPages'\n",
    "]\n",
    "\n",
    "for col in required_columns:\n",
    "    if col not in combined_df.columns:\n",
    "        combined_df[col] = \"\"  # Add empty column if missing\n"
   ]
  },
  {
   "cell_type": "code",
   "execution_count": null,
   "id": "8b7373d1",
   "metadata": {},
   "outputs": [],
   "source": [
    "# Step 4: Sample enrichment\n",
    "combined_df['ProjectStatus'] = combined_df['ProjectStatus'].replace(\"\", \"Completed\")\n",
    "combined_df['OutputStatus'] = combined_df['OutputStatus'].replace(\"\", \"Published\")\n",
    "combined_df['OutputType'] = combined_df['OutputType'].replace(\"\", \"Unknown\")"
   ]
  },
  {
   "cell_type": "code",
   "execution_count": null,
   "id": "a9d73311",
   "metadata": {},
   "outputs": [],
   "source": [
    "# Step 5: Convert OutputYear and OutputMonth safely\n",
    "combined_df['OutputYear'] = pd.to_datetime(combined_df['OutputYear'], errors='coerce').dt.year\n",
    "combined_df['OutputMonth'] = pd.to_datetime(combined_df['OutputMonth'], errors='coerce').dt.month"
   ]
  },
  {
   "cell_type": "code",
   "execution_count": null,
   "id": "c3b97deb",
   "metadata": {},
   "outputs": [],
   "source": [
    "# Step 6: Clean up string columns\n",
    "combined_df = combined_df.applymap(lambda x: x.strip() if isinstance(x, str) else x)"
   ]
  },
  {
   "cell_type": "code",
   "execution_count": null,
   "id": "2218966a",
   "metadata": {},
   "outputs": [],
   "source": [
    "# Step 7: Save\n",
    "os.makedirs('./data/processed', exist_ok=True)\n",
    "combined_df.to_csv('./data/processed/enriched_outputs_sample.csv', index=False)\n",
    "print(\"Task 2 completed: Enriched CSV saved.\")"
   ]
  }
 ],
 "metadata": {},
 "nbformat": 4,
 "nbformat_minor": 5
}
