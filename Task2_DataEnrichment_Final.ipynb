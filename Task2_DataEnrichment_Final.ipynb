{
 "cells": [
  {
   "cell_type": "code",
   "execution_count": null,
   "id": "81b898fe",
   "metadata": {},
   "outputs": [],
   "source": [
    "import pandas as pd\n",
    "import os\n",
    "\n",
    "# Load base cleaned CSV (after deduplication)\n",
    "main_path = \"Final_ResearchOutputs_Cleaned.csv\"\n",
    "main_df = pd.read_csv(main_path, dtype=str)\n",
    "print(f\"Loaded base file with {main_df.shape[0]} records.\")"
   ]
  },
  {
   "cell_type": "code",
   "execution_count": null,
   "id": "3949451f",
   "metadata": {},
   "outputs": [],
   "source": [
    "# Load project metadata for enrichment\n",
    "metadata_path = \"ProjectsAllMetadata.xlsx\"\n",
    "metadata_df = pd.read_excel(metadata_path, dtype=str)\n",
    "print(f\"Loaded metadata file with {metadata_df.shape[0]} entries.\")"
   ]
  },
  {
   "cell_type": "code",
   "execution_count": null,
   "id": "c65f1f41",
   "metadata": {},
   "outputs": [],
   "source": [
    "# Clean column names\n",
    "main_df.columns = main_df.columns.str.strip()\n",
    "metadata_df.columns = metadata_df.columns.str.strip()"
   ]
  },
  {
   "cell_type": "code",
   "execution_count": null,
   "id": "d5c4b28d",
   "metadata": {},
   "outputs": [],
   "source": [
    "# Merge on ProjID and enrich missing fields\n",
    "if 'ProjID' in main_df.columns and 'ProjID' in metadata_df.columns:\n",
    "    merged_df = pd.merge(main_df, metadata_df, on='ProjID', how='left', suffixes=('', '_meta'))\n",
    "\n",
    "    enrichment_fields = [\n",
    "        'ProjectStatus', 'ProjectTitle', 'ProjectRDC',\n",
    "        'ProjectYearStarted', 'ProjectYearEnded', 'ProjectPI'\n",
    "    ]\n",
    "\n",
    "    for field in enrichment_fields:\n",
    "        merged_df[field] = merged_df[field].fillna(merged_df[field + '_meta']).replace(\"\", merged_df[field + '_meta'])\n",
    "\n",
    "    merged_df.drop(columns=[f + '_meta' for f in enrichment_fields if f + '_meta' in merged_df.columns], inplace=True)\n",
    "else:\n",
    "    merged_df = main_df.copy()\n"
   ]
  },
  {
   "cell_type": "code",
   "execution_count": null,
   "id": "19ed1b6d",
   "metadata": {},
   "outputs": [],
   "source": [
    "# Filter out records that are unlikely to be FSRDC-related\n",
    "def is_relevant(title, rdc):\n",
    "    title = str(title).lower()\n",
    "    rdc = str(rdc).lower()\n",
    "    return 'fsrdc' in title or 'fsrdc' in rdc\n",
    "\n",
    "merged_df['is_relevant'] = merged_df.apply(lambda row: is_relevant(row.get('ProjectTitle', ''), row.get('ProjectRDC', '')), axis=1)\n",
    "filtered_df = merged_df[merged_df['is_relevant'] == True].drop(columns=['is_relevant'])\n",
    "print(f\"Filtered dataset now contains {filtered_df.shape[0]} relevant records.\")"
   ]
  },
  {
   "cell_type": "code",
   "execution_count": null,
   "id": "6d688f06",
   "metadata": {},
   "outputs": [],
   "source": [
    "# Ensure all required columns exist\n",
    "required_columns = [\n",
    "    'ProjID', 'ProjectStatus', 'ProjectTitle', 'ProjectRDC', 'ProjectYearStarted',\n",
    "    'ProjectYearEnded', 'ProjectPI', 'OutputTitle', 'OutputBiblio', 'OutputType',\n",
    "    'OutputStatus', 'OutputVenue', 'OutputYear', 'OutputMonth', 'OutputVolume',\n",
    "    'OutputNumber', 'OutputPages'\n",
    "]\n",
    "\n",
    "for col in required_columns:\n",
    "    if col not in filtered_df.columns:\n",
    "        filtered_df[col] = \"\"\n",
    "\n",
    "# Fill common empty fields\n",
    "filtered_df['ProjectStatus'] = filtered_df['ProjectStatus'].replace(\"\", \"Completed\")\n",
    "filtered_df['OutputStatus'] = filtered_df['OutputStatus'].replace(\"\", \"Published\")\n",
    "filtered_df['OutputType'] = filtered_df['OutputType'].replace(\"\", \"Unknown\")\n",
    "\n",
    "# Parse OutputYear and OutputMonth to standard numeric format\n",
    "filtered_df['OutputYear'] = pd.to_datetime(filtered_df['OutputYear'], errors='coerce').dt.year\n",
    "filtered_df['OutputMonth'] = pd.to_datetime(filtered_df['OutputMonth'], errors='coerce').dt.month\n",
    "\n",
    "# Trim strings\n",
    "filtered_df = filtered_df.applymap(lambda x: x.strip() if isinstance(x, str) else x)"
   ]
  },
  {
   "cell_type": "code",
   "execution_count": null,
   "id": "46cb5e92",
   "metadata": {},
   "outputs": [],
   "source": [
    "# Save the enriched file\n",
    "os.makedirs('./data/processed', exist_ok=True)\n",
    "output_path = './data/processed/ResearchOutputs_GroupX_Task2_Enriched.csv'\n",
    "filtered_df.to_csv(output_path, index=False)\n",
    "print(f\"Enriched data saved to {output_path}\")"
   ]
  }
 ],
 "metadata": {
  "language_info": {
   "name": "python"
  }
 },
 "nbformat": 4,
 "nbformat_minor": 5
}
